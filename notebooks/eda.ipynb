{
 "cells": [],
 "metadata": {
  "kernelspec": {
   "display_name": "stpetersburg-prices-VAqiEndS-py3.12",
   "language": "python",
   "name": "python3"
  },
  "language_info": {
   "name": "python",
   "version": "3.12.7"
  }
 },
 "nbformat": 4,
 "nbformat_minor": 2
}
